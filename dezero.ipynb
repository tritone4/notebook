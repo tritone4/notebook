{
 "cells": [
  {
   "cell_type": "markdown",
   "id": "e7d9e460",
   "metadata": {},
   "source": [
    "## STEP1 Variableクラスの実装"
   ]
  },
  {
   "cell_type": "code",
   "execution_count": 1,
   "id": "d30ca1a9",
   "metadata": {},
   "outputs": [],
   "source": [
    "class Variable:\n",
    "    def __init__(self, data):\n",
    "        self.data = data"
   ]
  },
  {
   "cell_type": "markdown",
   "id": "438cfdb9",
   "metadata": {},
   "source": [
    "#### Test & memo  \n",
    " = no.array() 多次元配列も可能としている。  \n",
    " 列数が次元数。行数がデータ数"
   ]
  },
  {
   "cell_type": "code",
   "execution_count": 2,
   "id": "d169b233",
   "metadata": {},
   "outputs": [
    {
     "name": "stdout",
     "output_type": "stream",
     "text": [
      "[[1 2 3]\n",
      " [4 5 6]]\n"
     ]
    }
   ],
   "source": [
    "import numpy as np\n",
    "\n",
    "data = np.array([[1,2,3],[4,5,6,],])\n",
    "x = Variable(data)\n",
    "print(x.data)"
   ]
  },
  {
   "cell_type": "markdown",
   "id": "2c34a966",
   "metadata": {},
   "source": [
    "## STEP2 Functionクラスの実装\n",
    "y = f(x) 　　x,yはVariableとする。  \n",
    "- Functionクラスは基底クラスとし、すべての関数に共通する機能を実装する。\n",
    "- 具体的な関数は、Functionクラスを継承したクラスで実装する。"
   ]
  },
  {
   "cell_type": "code",
   "execution_count": 3,
   "id": "c40b5360",
   "metadata": {},
   "outputs": [],
   "source": [
    "class Function:\n",
    "    def __call__(self, input):\n",
    "        x = input.data\n",
    "        y = self.forward(x)    # 具体的な計算は、forwardメソッドでで行う。\n",
    "        return Variable(y)\n",
    "    \n",
    "    def forward(self, x):\n",
    "        raise NoImplementedError()"
   ]
  },
  {
   "cell_type": "code",
   "execution_count": 4,
   "id": "32f5156a",
   "metadata": {},
   "outputs": [],
   "source": [
    "class Squre(Function):\n",
    "    def forward(self, x):\n",
    "        return x ** 2"
   ]
  },
  {
   "cell_type": "markdown",
   "id": "8210ae50",
   "metadata": {},
   "source": [
    "#### Test & Memo  \n"
   ]
  },
  {
   "cell_type": "code",
   "execution_count": 5,
   "id": "38978a49",
   "metadata": {},
   "outputs": [
    {
     "name": "stdout",
     "output_type": "stream",
     "text": [
      "<class '__main__.Variable'>\n",
      "100\n"
     ]
    }
   ],
   "source": [
    "x = Variable(np.array(10))\n",
    "f = Squre()\n",
    "y = f(x)\n",
    "\n",
    "print(type(y))\n",
    "print(y.data)"
   ]
  },
  {
   "cell_type": "markdown",
   "id": "a4bf6687",
   "metadata": {},
   "source": [
    "## STEP3 関数の連結\n",
    "### Exp関数の実装"
   ]
  },
  {
   "cell_type": "code",
   "execution_count": 6,
   "id": "387cb4d1",
   "metadata": {},
   "outputs": [],
   "source": [
    "class Exp(Function):\n",
    "    def forward(self, x):\n",
    "        return np.exp(x)"
   ]
  },
  {
   "cell_type": "markdown",
   "id": "04ebb69c",
   "metadata": {},
   "source": [
    "#### Test & Memo\n",
    "- 変数がすべて同一の型（Variableインスタンス）である点が重要\n",
    "- 合成関数、計算グラフで表現することでバックプロパゲーション（誤差伝播法）のアルゴリズムを可能にする。"
   ]
  },
  {
   "cell_type": "code",
   "execution_count": 7,
   "id": "96d8a0a5",
   "metadata": {},
   "outputs": [
    {
     "name": "stdout",
     "output_type": "stream",
     "text": [
      "1.648721270700128\n"
     ]
    }
   ],
   "source": [
    "A = Squre()\n",
    "B = Exp()\n",
    "C = Squre()\n",
    "\n",
    "x = Variable(np.array(0.5))\n",
    "a = A(x)\n",
    "b = B(a)\n",
    "y = C(b)\n",
    "print(y.data)"
   ]
  },
  {
   "cell_type": "markdown",
   "id": "16b07508",
   "metadata": {},
   "source": [
    "## STEP4 数値微分\n",
    "- 数値微分に代わるより効率的なアルゴリズムとしてのバックプロパゲーション\n",
    "- 中心差分近似　$\\frac{f(x+h)-f(x-h)}{2h}$の関数（メソッド）をnumerical_diff(f, x, eps=1e-4)と定義"
   ]
  },
  {
   "cell_type": "code",
   "execution_count": 8,
   "id": "75d73f1a",
   "metadata": {},
   "outputs": [],
   "source": [
    "def numerical_deff(f, x, eps=1e-4):\n",
    "    x0 = Variable(x.data -eps)\n",
    "    x1 = Variable(x.data +eps)\n",
    "    y0 = f(x0)\n",
    "    y1 = f(x1)\n",
    "    return (y1.data - y0.data) / (2 * eps)"
   ]
  },
  {
   "cell_type": "markdown",
   "id": "58d82a9b",
   "metadata": {},
   "source": [
    "#### Test & Memo\n",
    "誤差を含まない正確な微分値が4.0なのに対し、下の近似は十分に良い値と言える。"
   ]
  },
  {
   "cell_type": "code",
   "execution_count": 9,
   "id": "4230711e",
   "metadata": {},
   "outputs": [
    {
     "name": "stdout",
     "output_type": "stream",
     "text": [
      "4.000000000004\n"
     ]
    }
   ],
   "source": [
    "f = Squre()\n",
    "x = Variable(np.array(2.0))\n",
    "dy = numerical_deff(f, x)\n",
    "print(dy)"
   ]
  },
  {
   "cell_type": "markdown",
   "id": "befb35f0",
   "metadata": {},
   "source": [
    "### 合成関数の微分\n",
    "合成関数　$ y=(e^{x^2})^2 $　の微分 $ \\frac{dy}{dx} $を求める。"
   ]
  },
  {
   "cell_type": "code",
   "execution_count": 10,
   "id": "e62801e5",
   "metadata": {},
   "outputs": [],
   "source": [
    "def f(x):\n",
    "    A = Squre()\n",
    "    B = Exp()\n",
    "    C = Squre()\n",
    "    return C(B(A(x)))"
   ]
  },
  {
   "cell_type": "markdown",
   "id": "d21ca890",
   "metadata": {},
   "source": [
    "#### Test & Memo\n",
    "- どんなに複雑な組み合わせの関数であっても、微分可能な関数であるなら自動微分できる。"
   ]
  },
  {
   "cell_type": "code",
   "execution_count": 11,
   "id": "08ed62a9",
   "metadata": {},
   "outputs": [
    {
     "name": "stdout",
     "output_type": "stream",
     "text": [
      "3.2974426293330694\n"
     ]
    }
   ],
   "source": [
    "x = Variable(np.array(0.5))\n",
    "dy = numerical_deff(f, x)\n",
    "print(dy)"
   ]
  },
  {
   "cell_type": "markdown",
   "id": "3986535e",
   "metadata": {},
   "source": [
    "## STEP5 バックプロパゲーションの理論\n",
    "- チェインルール（連鎖律）：合成関数の微分は、それを構成する各関数の部分の積に分解できること。\n",
    "- ここで、積の順番は入れ替え可能。つまり逆向き（yの〇に関する微分）に表現できる。（逆伝播）\n",
    "- バックプロパゲーションの実装では、はじめに順伝播を行い、各変数の値を記憶しておく。それにより、各関数の逆伝播の計算が可能になる。\n"
   ]
  },
  {
   "cell_type": "markdown",
   "id": "d5f5dd2e",
   "metadata": {},
   "source": [
    "## STEP6 手作業によるバックプロパゲーション\n",
    "##### Variableクラスの改造\n",
    "    - 通常の値(data)と微分した値(grad)を保持（ともに多次元配列 ndarray）\n",
    "    - gradは、Noneで初期化し、逆伝播で微分が計算されたときに設定する。\n",
    "##### Functionの改造\n",
    "    - 逆伝播の機能（backwardメソッド）の実装\n",
    "    - forward呼び出し時に、入力値を保持する機能"
   ]
  },
  {
   "cell_type": "code",
   "execution_count": 12,
   "id": "b3e09309",
   "metadata": {},
   "outputs": [],
   "source": [
    "class Variable:\n",
    "    def __init__(self, data):\n",
    "        self.data = data\n",
    "        self.grad = None"
   ]
  },
  {
   "cell_type": "code",
   "execution_count": 13,
   "id": "e36f79e4",
   "metadata": {},
   "outputs": [],
   "source": [
    "class Function:\n",
    "    def __call__(self, input):\n",
    "        x = input.data\n",
    "        y = self.forward(x)\n",
    "        output = Variable(y)\n",
    "        self.input = input    # 入力値を保持する。backwardメソッド呼び出し時に使用する。\n",
    "        return output\n",
    "    \n",
    "    def forward(self, x):\n",
    "        raise NotImplementError()\n",
    "        \n",
    "    def backward(self, gy):\n",
    "        raise NotImplementedError()    "
   ]
  },
  {
   "cell_type": "markdown",
   "id": "84abad6a",
   "metadata": {},
   "source": [
    "##### SqureクラスとExpクラスの改造\n",
    "- $ y=x^2 $の微分は、$ \\frac{dy}{dx}=2x $であること。\n",
    "- $ y=e^x $の微分は、$ \\frac{dy}{dx}=e^x $であること。"
   ]
  },
  {
   "cell_type": "code",
   "execution_count": 14,
   "id": "acfdb017",
   "metadata": {},
   "outputs": [],
   "source": [
    "class Square(Function):\n",
    "    def forward(self, x):\n",
    "        y = x ** 2\n",
    "        return y\n",
    "    \n",
    "    def backward(self, gy):\n",
    "        x = self.input.data\n",
    "        gx = 2 * x * gy\n",
    "        return gx"
   ]
  },
  {
   "cell_type": "code",
   "execution_count": 15,
   "id": "1ab6abfa",
   "metadata": {},
   "outputs": [],
   "source": [
    "class Exp(Function):\n",
    "    def forward(self, x):\n",
    "        y = np.exp(x)\n",
    "        return y\n",
    "    \n",
    "    def backward(self, gy):\n",
    "        x = self.input.data\n",
    "        gx = np.exp(x) * gy\n",
    "        return gx"
   ]
  },
  {
   "cell_type": "markdown",
   "id": "2e0d20ff",
   "metadata": {},
   "source": [
    "##### 逆伝播をテストする\n",
    "まずは、順伝播を記述し、テストする。"
   ]
  },
  {
   "cell_type": "code",
   "execution_count": 16,
   "id": "1e1acc6f",
   "metadata": {},
   "outputs": [],
   "source": [
    "A = Square()\n",
    "B = Exp()\n",
    "C = Square()\n",
    "\n",
    "x = Variable(np.array(0.5))\n",
    "a = A(x)\n",
    "b = B(a)\n",
    "y = C(b)"
   ]
  },
  {
   "cell_type": "code",
   "execution_count": 17,
   "id": "97dac06e",
   "metadata": {},
   "outputs": [
    {
     "name": "stdout",
     "output_type": "stream",
     "text": [
      "3.297442541400256\n"
     ]
    }
   ],
   "source": [
    "y.grad = np.array(1.0)\n",
    "b.grad = C.backward(y.grad)\n",
    "a.grad = B.backward(b.grad)\n",
    "x.grad = A.backward(a.grad)\n",
    "print(x.grad)"
   ]
  },
  {
   "cell_type": "markdown",
   "id": "86ecfb76",
   "metadata": {},
   "source": [
    "## STEP7 バックプロパゲーションの自動化　Define-by-Run"
   ]
  },
  {
   "cell_type": "code",
   "execution_count": 18,
   "id": "8379edda",
   "metadata": {},
   "outputs": [],
   "source": [
    "class Variable:\n",
    "    def __init__(self, data):\n",
    "        self.data = data\n",
    "        self.grad = None\n",
    "        self.creator = None\n",
    "        \n",
    "    def set_creator(self, func):\n",
    "        self.creator = func\n",
    "        \n",
    "    def backward(self):\n",
    "        f = self.creator  # 1.関数を取得\n",
    "        if f is not NONE:\n",
    "            x = f.input  # 2.関数の入力を取得\n",
    "            x.grad = f.backward(self.grad)  # 3.関数のbackwardメソッドを呼ぶ\n",
    "            x.backward()  # 自分より1つ前の変数のbackwardメソッドを呼ぶ（再帰）"
   ]
  },
  {
   "cell_type": "markdown",
   "id": "79e39165-c328-4f10-98a5-0ddfb42ba784",
   "metadata": {},
   "source": [
    "##### Test & Mmeo"
   ]
  },
  {
   "cell_type": "code",
   "execution_count": 19,
   "id": "bdb832f0-edbd-4808-a1c5-ba256a243b7e",
   "metadata": {},
   "outputs": [
    {
     "ename": "NameError",
     "evalue": "name 'NONE' is not defined",
     "output_type": "error",
     "traceback": [
      "\u001b[0;31m---------------------------------------------------------------------------\u001b[0m",
      "\u001b[0;31mNameError\u001b[0m                                 Traceback (most recent call last)",
      "Input \u001b[0;32mIn [19]\u001b[0m, in \u001b[0;36m<module>\u001b[0;34m\u001b[0m\n\u001b[1;32m     10\u001b[0m \u001b[38;5;66;03m# 逆伝播\u001b[39;00m\n\u001b[1;32m     11\u001b[0m y\u001b[38;5;241m.\u001b[39mgrad \u001b[38;5;241m=\u001b[39m np\u001b[38;5;241m.\u001b[39marray(\u001b[38;5;241m1.0\u001b[39m)\n\u001b[0;32m---> 12\u001b[0m \u001b[43my\u001b[49m\u001b[38;5;241;43m.\u001b[39;49m\u001b[43mbackward\u001b[49m\u001b[43m(\u001b[49m\u001b[43m)\u001b[49m\n\u001b[1;32m     13\u001b[0m \u001b[38;5;28mprint\u001b[39m(x\u001b[38;5;241m.\u001b[39mgrad)\n",
      "Input \u001b[0;32mIn [18]\u001b[0m, in \u001b[0;36mVariable.backward\u001b[0;34m(self)\u001b[0m\n\u001b[1;32m     10\u001b[0m \u001b[38;5;28;01mdef\u001b[39;00m \u001b[38;5;21mbackward\u001b[39m(\u001b[38;5;28mself\u001b[39m):\n\u001b[1;32m     11\u001b[0m     f \u001b[38;5;241m=\u001b[39m \u001b[38;5;28mself\u001b[39m\u001b[38;5;241m.\u001b[39mcreator  \u001b[38;5;66;03m# 1.関数を取得\u001b[39;00m\n\u001b[0;32m---> 12\u001b[0m     \u001b[38;5;28;01mif\u001b[39;00m f \u001b[38;5;129;01mis\u001b[39;00m \u001b[38;5;129;01mnot\u001b[39;00m \u001b[43mNONE\u001b[49m:\n\u001b[1;32m     13\u001b[0m         x \u001b[38;5;241m=\u001b[39m f\u001b[38;5;241m.\u001b[39minput  \u001b[38;5;66;03m# 2.関数の入力を取得\u001b[39;00m\n\u001b[1;32m     14\u001b[0m         x\u001b[38;5;241m.\u001b[39mgrad \u001b[38;5;241m=\u001b[39m f\u001b[38;5;241m.\u001b[39mbackward(\u001b[38;5;28mself\u001b[39m\u001b[38;5;241m.\u001b[39mgrad)  \u001b[38;5;66;03m# 3.関数のbackwardメソッドを呼ぶ\u001b[39;00m\n",
      "\u001b[0;31mNameError\u001b[0m: name 'NONE' is not defined"
     ]
    }
   ],
   "source": [
    "A = Square()\n",
    "B = Exp()\n",
    "C = Square()\n",
    "\n",
    "x = Variable(np.array(0.5))\n",
    "a = A(x)\n",
    "b = B(a)\n",
    "y = C(b)\n",
    "\n",
    "# 逆伝播\n",
    "y.grad = np.array(1.0)\n",
    "y.backward()\n",
    "print(x.grad)\n"
   ]
  },
  {
   "cell_type": "markdown",
   "id": "45edc4a8-b1f3-48be-b3f4-f424c23063a9",
   "metadata": {},
   "source": [
    "## STEP8 再帰からループへ"
   ]
  },
  {
   "cell_type": "code",
   "execution_count": null,
   "id": "9495df07-27c7-44f7-9c58-7c48a4b98222",
   "metadata": {},
   "outputs": [],
   "source": [
    "class Variable:\n",
    "    def __init__(self, data):\n",
    "        self.data = data\n",
    "        self.grad = None\n",
    "        self.creator = None\n",
    "        \n",
    "    def set_creator(self, func):\n",
    "        self.creator = func\n",
    "        \n",
    "    def backward(self):\n",
    "        funcs = [self.creator]\n",
    "        while funcs:\n",
    "            f = funcs.pop()  # 関数を取得\n",
    "            x, y = f.input, f.output  # 関数の入出力を取得\n",
    "            x.grad = f.backward(y.grad) # backwardメソッドを呼ぶ\n",
    "            \n",
    "            if c.creator is not NONE:\n",
    "                funcs.append(x.creator)  # 一つ前の関数をリストに追加"
   ]
  }
 ],
 "metadata": {
  "kernelspec": {
   "display_name": "Python 3 (ipykernel)",
   "language": "python",
   "name": "python3"
  },
  "language_info": {
   "codemirror_mode": {
    "name": "ipython",
    "version": 3
   },
   "file_extension": ".py",
   "mimetype": "text/x-python",
   "name": "python",
   "nbconvert_exporter": "python",
   "pygments_lexer": "ipython3",
   "version": "3.8.10"
  },
  "toc-autonumbering": false,
  "toc-showcode": false,
  "toc-showmarkdowntxt": false,
  "toc-showtags": false
 },
 "nbformat": 4,
 "nbformat_minor": 5
}
